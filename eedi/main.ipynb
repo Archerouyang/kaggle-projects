{
 "cells": [
  {
   "cell_type": "code",
   "execution_count": 20,
   "metadata": {},
   "outputs": [],
   "source": [
    "import pandas as pd\n",
    "import numpy as np\n",
    "from sklearn.metrics.pairwise import cosine_similarity\n",
    "from transformers import AutoTokenizer, AutoModel\n",
    "import torch"
   ]
  },
  {
   "cell_type": "markdown",
   "metadata": {},
   "source": [
    "## Data Load"
   ]
  },
  {
   "cell_type": "code",
   "execution_count": 28,
   "metadata": {},
   "outputs": [
    {
     "data": {
      "text/plain": [
       "'c:\\\\Users\\\\arche\\\\OneDrive\\\\桌面\\\\kaggle\\\\eedi'"
      ]
     },
     "execution_count": 28,
     "metadata": {},
     "output_type": "execute_result"
    }
   ],
   "source": [
    "import os\n",
    "os.getcwd()"
   ]
  },
  {
   "cell_type": "code",
   "execution_count": 8,
   "metadata": {},
   "outputs": [],
   "source": [
    "train = pd.read_csv(\"train.csv\")\n",
    "test = pd.read_csv(\"test.csv\")\n",
    "\n",
    "misconception_mapping = pd.read_csv(\"misconception_mapping.csv\")\n",
    "sample_submission = pd.read_csv(\"sample_submission.csv\")"
   ]
  },
  {
   "cell_type": "code",
   "execution_count": 9,
   "metadata": {},
   "outputs": [
    {
     "name": "stdout",
     "output_type": "stream",
     "text": [
      "   QuestionId  ConstructId                                      ConstructName  \\\n",
      "0           0          856  Use the order of operations to carry out calcu...   \n",
      "1           1         1612  Simplify an algebraic fraction by factorising ...   \n",
      "2           2         2774            Calculate the range from a list of data   \n",
      "3           3         2377  Recall and use the intersecting diagonals prop...   \n",
      "4           4         3387  Substitute positive integer values into formul...   \n",
      "\n",
      "   SubjectId                                        SubjectName CorrectAnswer  \\\n",
      "0         33                                             BIDMAS             A   \n",
      "1       1077                    Simplifying Algebraic Fractions             D   \n",
      "2        339  Range and Interquartile Range from a List of Data             B   \n",
      "3         88                       Properties of Quadrilaterals             C   \n",
      "4         67                          Substitution into Formula             A   \n",
      "\n",
      "                                        QuestionText            AnswerAText  \\\n",
      "0  \\[\\n3 \\times 2+4-5\\n\\]\\nWhere do the brackets ...  \\( 3 \\times(2+4)-5 \\)   \n",
      "1  Simplify the following, if possible: \\( \\frac{...              \\( m+1 \\)   \n",
      "2  Tom and Katie are discussing the \\( 5 \\) plant...              Only\\nTom   \n",
      "3  The angles highlighted on this rectangle with ...                  acute   \n",
      "4  The equation \\( f=3 r^{2}+3 \\) is used to find...               \\( 30 \\)   \n",
      "\n",
      "              AnswerBText            AnswerCText             AnswerDText  \\\n",
      "0  \\( 3 \\times 2+(4-5) \\)  \\( 3 \\times(2+4-5) \\)  Does not need brackets   \n",
      "1               \\( m+2 \\)              \\( m-1 \\)       Does not simplify   \n",
      "2             Only\\nKatie     Both Tom and Katie      Neither is correct   \n",
      "3                  obtuse       \\( 90^{\\circ} \\)  Not enough information   \n",
      "4                \\( 27 \\)               \\( 51 \\)                \\( 24 \\)   \n",
      "\n",
      "   MisconceptionAId  MisconceptionBId  MisconceptionCId  MisconceptionDId  \n",
      "0               NaN               NaN               NaN            1672.0  \n",
      "1            2142.0             143.0            2142.0               NaN  \n",
      "2            1287.0               NaN            1287.0            1073.0  \n",
      "3            1180.0            1180.0               NaN            1180.0  \n",
      "4               NaN               NaN               NaN            1818.0  \n",
      "   QuestionId  ConstructId                                      ConstructName  \\\n",
      "0        1869          856  Use the order of operations to carry out calcu...   \n",
      "1        1870         1612  Simplify an algebraic fraction by factorising ...   \n",
      "2        1871         2774            Calculate the range from a list of data   \n",
      "\n",
      "   SubjectId                                        SubjectName CorrectAnswer  \\\n",
      "0         33                                             BIDMAS             A   \n",
      "1       1077                    Simplifying Algebraic Fractions             D   \n",
      "2        339  Range and Interquartile Range from a List of Data             B   \n",
      "\n",
      "                                        QuestionText            AnswerAText  \\\n",
      "0  \\[\\n3 \\times 2+4-5\\n\\]\\nWhere do the brackets ...  \\( 3 \\times(2+4)-5 \\)   \n",
      "1  Simplify the following, if possible: \\( \\frac{...              \\( m+1 \\)   \n",
      "2  Tom and Katie are discussing the \\( 5 \\) plant...              Only\\nTom   \n",
      "\n",
      "              AnswerBText            AnswerCText             AnswerDText  \n",
      "0  \\( 3 \\times 2+(4-5) \\)  \\( 3 \\times(2+4-5) \\)  Does not need brackets  \n",
      "1               \\( m+2 \\)              \\( m-1 \\)       Does not simplify  \n",
      "2             Only\\nKatie     Both Tom and Katie      Neither is correct  \n",
      "   MisconceptionId                                  MisconceptionName\n",
      "0                0  Does not know that angles in a triangle sum to...\n",
      "1                1  Uses dividing fractions method for multiplying...\n",
      "2                2      Believes there are 100 degrees in a full turn\n",
      "3                3  Thinks a quadratic without a non variable term...\n",
      "4                4  Believes addition of terms and powers of terms...\n",
      "  QuestionId_Answer                                    MisconceptionId\n",
      "0            1869_A  1 2 3 4 5 6 7 8 9 10 11 12 13 14 15 16 17 18 1...\n",
      "1            1869_B  1 2 3 4 5 6 7 8 9 10 11 12 13 14 15 16 17 18 1...\n",
      "2            1869_C  1 2 3 4 5 6 7 8 9 10 11 12 13 14 15 16 17 18 1...\n",
      "3            1870_B  1 2 3 4 5 6 7 8 9 10 11 12 13 14 15 16 17 18 1...\n",
      "4            1870_C  1 2 3 4 5 6 7 8 9 10 11 12 13 14 15 16 17 18 1...\n"
     ]
    }
   ],
   "source": [
    "# Preview the datasets\n",
    "print(train.head())\n",
    "print(test.head())\n",
    "print(misconception_mapping.head())\n",
    "print(sample_submission.head())"
   ]
  },
  {
   "cell_type": "markdown",
   "metadata": {},
   "source": [
    "## Preprocess"
   ]
  },
  {
   "cell_type": "code",
   "execution_count": 10,
   "metadata": {},
   "outputs": [],
   "source": [
    "def to_text(df: pd.DataFrame) -> pd.DataFrame:\n",
    "    df[\"all_question_text\"] = df[\"ConstructName\"] +\" \" +df[\"QuestionText\"]\n",
    "    return df\n",
    "\n",
    "test = to_text(test)"
   ]
  },
  {
   "cell_type": "code",
   "execution_count": 11,
   "metadata": {},
   "outputs": [
    {
     "name": "stdout",
     "output_type": "stream",
     "text": [
      "(3, 12)\n",
      "Index(['QuestionId', 'ConstructId', 'ConstructName', 'SubjectId',\n",
      "       'SubjectName', 'CorrectAnswer', 'QuestionText', 'AnswerAText',\n",
      "       'AnswerBText', 'AnswerCText', 'AnswerDText', 'all_question_text'],\n",
      "      dtype='object')\n"
     ]
    }
   ],
   "source": [
    "print(test.shape)\n",
    "print(test.columns)"
   ]
  },
  {
   "cell_type": "code",
   "execution_count": 12,
   "metadata": {},
   "outputs": [
    {
     "data": {
      "text/html": [
       "<div>\n",
       "<style scoped>\n",
       "    .dataframe tbody tr th:only-of-type {\n",
       "        vertical-align: middle;\n",
       "    }\n",
       "\n",
       "    .dataframe tbody tr th {\n",
       "        vertical-align: top;\n",
       "    }\n",
       "\n",
       "    .dataframe thead th {\n",
       "        text-align: right;\n",
       "    }\n",
       "</style>\n",
       "<table border=\"1\" class=\"dataframe\">\n",
       "  <thead>\n",
       "    <tr style=\"text-align: right;\">\n",
       "      <th></th>\n",
       "      <th>QuestionId</th>\n",
       "      <th>all_question_text</th>\n",
       "      <th>CorrectAnswer</th>\n",
       "      <th>Answer</th>\n",
       "      <th>value</th>\n",
       "    </tr>\n",
       "  </thead>\n",
       "  <tbody>\n",
       "    <tr>\n",
       "      <th>0</th>\n",
       "      <td>1869</td>\n",
       "      <td>Use the order of operations to carry out calcu...</td>\n",
       "      <td>A</td>\n",
       "      <td>AnswerAText</td>\n",
       "      <td>\\( 3 \\times(2+4)-5 \\)</td>\n",
       "    </tr>\n",
       "    <tr>\n",
       "      <th>1</th>\n",
       "      <td>1870</td>\n",
       "      <td>Simplify an algebraic fraction by factorising ...</td>\n",
       "      <td>D</td>\n",
       "      <td>AnswerAText</td>\n",
       "      <td>\\( m+1 \\)</td>\n",
       "    </tr>\n",
       "    <tr>\n",
       "      <th>2</th>\n",
       "      <td>1871</td>\n",
       "      <td>Calculate the range from a list of data Tom an...</td>\n",
       "      <td>B</td>\n",
       "      <td>AnswerAText</td>\n",
       "      <td>Only\\nTom</td>\n",
       "    </tr>\n",
       "    <tr>\n",
       "      <th>3</th>\n",
       "      <td>1869</td>\n",
       "      <td>Use the order of operations to carry out calcu...</td>\n",
       "      <td>A</td>\n",
       "      <td>AnswerBText</td>\n",
       "      <td>\\( 3 \\times 2+(4-5) \\)</td>\n",
       "    </tr>\n",
       "    <tr>\n",
       "      <th>4</th>\n",
       "      <td>1870</td>\n",
       "      <td>Simplify an algebraic fraction by factorising ...</td>\n",
       "      <td>D</td>\n",
       "      <td>AnswerBText</td>\n",
       "      <td>\\( m+2 \\)</td>\n",
       "    </tr>\n",
       "    <tr>\n",
       "      <th>5</th>\n",
       "      <td>1871</td>\n",
       "      <td>Calculate the range from a list of data Tom an...</td>\n",
       "      <td>B</td>\n",
       "      <td>AnswerBText</td>\n",
       "      <td>Only\\nKatie</td>\n",
       "    </tr>\n",
       "    <tr>\n",
       "      <th>6</th>\n",
       "      <td>1869</td>\n",
       "      <td>Use the order of operations to carry out calcu...</td>\n",
       "      <td>A</td>\n",
       "      <td>AnswerCText</td>\n",
       "      <td>\\( 3 \\times(2+4-5) \\)</td>\n",
       "    </tr>\n",
       "    <tr>\n",
       "      <th>7</th>\n",
       "      <td>1870</td>\n",
       "      <td>Simplify an algebraic fraction by factorising ...</td>\n",
       "      <td>D</td>\n",
       "      <td>AnswerCText</td>\n",
       "      <td>\\( m-1 \\)</td>\n",
       "    </tr>\n",
       "    <tr>\n",
       "      <th>8</th>\n",
       "      <td>1871</td>\n",
       "      <td>Calculate the range from a list of data Tom an...</td>\n",
       "      <td>B</td>\n",
       "      <td>AnswerCText</td>\n",
       "      <td>Both Tom and Katie</td>\n",
       "    </tr>\n",
       "    <tr>\n",
       "      <th>9</th>\n",
       "      <td>1869</td>\n",
       "      <td>Use the order of operations to carry out calcu...</td>\n",
       "      <td>A</td>\n",
       "      <td>AnswerDText</td>\n",
       "      <td>Does not need brackets</td>\n",
       "    </tr>\n",
       "    <tr>\n",
       "      <th>10</th>\n",
       "      <td>1870</td>\n",
       "      <td>Simplify an algebraic fraction by factorising ...</td>\n",
       "      <td>D</td>\n",
       "      <td>AnswerDText</td>\n",
       "      <td>Does not simplify</td>\n",
       "    </tr>\n",
       "    <tr>\n",
       "      <th>11</th>\n",
       "      <td>1871</td>\n",
       "      <td>Calculate the range from a list of data Tom an...</td>\n",
       "      <td>B</td>\n",
       "      <td>AnswerDText</td>\n",
       "      <td>Neither is correct</td>\n",
       "    </tr>\n",
       "  </tbody>\n",
       "</table>\n",
       "</div>"
      ],
      "text/plain": [
       "    QuestionId                                  all_question_text  \\\n",
       "0         1869  Use the order of operations to carry out calcu...   \n",
       "1         1870  Simplify an algebraic fraction by factorising ...   \n",
       "2         1871  Calculate the range from a list of data Tom an...   \n",
       "3         1869  Use the order of operations to carry out calcu...   \n",
       "4         1870  Simplify an algebraic fraction by factorising ...   \n",
       "5         1871  Calculate the range from a list of data Tom an...   \n",
       "6         1869  Use the order of operations to carry out calcu...   \n",
       "7         1870  Simplify an algebraic fraction by factorising ...   \n",
       "8         1871  Calculate the range from a list of data Tom an...   \n",
       "9         1869  Use the order of operations to carry out calcu...   \n",
       "10        1870  Simplify an algebraic fraction by factorising ...   \n",
       "11        1871  Calculate the range from a list of data Tom an...   \n",
       "\n",
       "   CorrectAnswer       Answer                   value  \n",
       "0              A  AnswerAText   \\( 3 \\times(2+4)-5 \\)  \n",
       "1              D  AnswerAText               \\( m+1 \\)  \n",
       "2              B  AnswerAText               Only\\nTom  \n",
       "3              A  AnswerBText  \\( 3 \\times 2+(4-5) \\)  \n",
       "4              D  AnswerBText               \\( m+2 \\)  \n",
       "5              B  AnswerBText             Only\\nKatie  \n",
       "6              A  AnswerCText   \\( 3 \\times(2+4-5) \\)  \n",
       "7              D  AnswerCText               \\( m-1 \\)  \n",
       "8              B  AnswerCText      Both Tom and Katie  \n",
       "9              A  AnswerDText  Does not need brackets  \n",
       "10             D  AnswerDText       Does not simplify  \n",
       "11             B  AnswerDText      Neither is correct  "
      ]
     },
     "execution_count": 12,
     "metadata": {},
     "output_type": "execute_result"
    }
   ],
   "source": [
    "def to_long(df: pd.DataFrame) -> pd.DataFrame:\n",
    "    df = pd.melt(\n",
    "        df[\n",
    "            [\n",
    "                \"QuestionId\",\n",
    "                \"all_question_text\",\n",
    "                \"CorrectAnswer\",\n",
    "                \"AnswerAText\",\n",
    "                \"AnswerBText\",\n",
    "                \"AnswerCText\",\n",
    "                \"AnswerDText\"\n",
    "            ]\n",
    "        ],\n",
    "        id_vars    = [\"QuestionId\", \"all_question_text\", \"CorrectAnswer\"],\n",
    "        var_name   = 'Answer',\n",
    "        value_name = 'value'\n",
    "    )\n",
    "\n",
    "    return df\n",
    "\n",
    "test_long = to_long(test)\n",
    "test_long"
   ]
  },
  {
   "cell_type": "code",
   "execution_count": 13,
   "metadata": {},
   "outputs": [
    {
     "name": "stdout",
     "output_type": "stream",
     "text": [
      "(12, 5)\n",
      "Index(['QuestionId', 'all_question_text', 'CorrectAnswer', 'Answer', 'value'], dtype='object')\n"
     ]
    }
   ],
   "source": [
    "print(test_long.shape)\n",
    "print(test_long.columns)"
   ]
  },
  {
   "cell_type": "code",
   "execution_count": 14,
   "metadata": {},
   "outputs": [
    {
     "data": {
      "text/html": [
       "<div>\n",
       "<style scoped>\n",
       "    .dataframe tbody tr th:only-of-type {\n",
       "        vertical-align: middle;\n",
       "    }\n",
       "\n",
       "    .dataframe tbody tr th {\n",
       "        vertical-align: top;\n",
       "    }\n",
       "\n",
       "    .dataframe thead th {\n",
       "        text-align: right;\n",
       "    }\n",
       "</style>\n",
       "<table border=\"1\" class=\"dataframe\">\n",
       "  <thead>\n",
       "    <tr style=\"text-align: right;\">\n",
       "      <th></th>\n",
       "      <th>QuestionId</th>\n",
       "      <th>all_question_text</th>\n",
       "      <th>CorrectAnswer</th>\n",
       "      <th>Answer</th>\n",
       "      <th>value</th>\n",
       "      <th>all_text</th>\n",
       "    </tr>\n",
       "  </thead>\n",
       "  <tbody>\n",
       "    <tr>\n",
       "      <th>0</th>\n",
       "      <td>1869</td>\n",
       "      <td>Use the order of operations to carry out calcu...</td>\n",
       "      <td>A</td>\n",
       "      <td>AnswerAText</td>\n",
       "      <td>\\( 3 \\times(2+4)-5 \\)</td>\n",
       "      <td>Use the order of operations to carry out calcu...</td>\n",
       "    </tr>\n",
       "    <tr>\n",
       "      <th>1</th>\n",
       "      <td>1870</td>\n",
       "      <td>Simplify an algebraic fraction by factorising ...</td>\n",
       "      <td>D</td>\n",
       "      <td>AnswerAText</td>\n",
       "      <td>\\( m+1 \\)</td>\n",
       "      <td>Simplify an algebraic fraction by factorising ...</td>\n",
       "    </tr>\n",
       "    <tr>\n",
       "      <th>2</th>\n",
       "      <td>1871</td>\n",
       "      <td>Calculate the range from a list of data Tom an...</td>\n",
       "      <td>B</td>\n",
       "      <td>AnswerAText</td>\n",
       "      <td>Only\\nTom</td>\n",
       "      <td>Calculate the range from a list of data Tom an...</td>\n",
       "    </tr>\n",
       "    <tr>\n",
       "      <th>3</th>\n",
       "      <td>1869</td>\n",
       "      <td>Use the order of operations to carry out calcu...</td>\n",
       "      <td>A</td>\n",
       "      <td>AnswerBText</td>\n",
       "      <td>\\( 3 \\times 2+(4-5) \\)</td>\n",
       "      <td>Use the order of operations to carry out calcu...</td>\n",
       "    </tr>\n",
       "    <tr>\n",
       "      <th>4</th>\n",
       "      <td>1870</td>\n",
       "      <td>Simplify an algebraic fraction by factorising ...</td>\n",
       "      <td>D</td>\n",
       "      <td>AnswerBText</td>\n",
       "      <td>\\( m+2 \\)</td>\n",
       "      <td>Simplify an algebraic fraction by factorising ...</td>\n",
       "    </tr>\n",
       "    <tr>\n",
       "      <th>5</th>\n",
       "      <td>1871</td>\n",
       "      <td>Calculate the range from a list of data Tom an...</td>\n",
       "      <td>B</td>\n",
       "      <td>AnswerBText</td>\n",
       "      <td>Only\\nKatie</td>\n",
       "      <td>Calculate the range from a list of data Tom an...</td>\n",
       "    </tr>\n",
       "    <tr>\n",
       "      <th>6</th>\n",
       "      <td>1869</td>\n",
       "      <td>Use the order of operations to carry out calcu...</td>\n",
       "      <td>A</td>\n",
       "      <td>AnswerCText</td>\n",
       "      <td>\\( 3 \\times(2+4-5) \\)</td>\n",
       "      <td>Use the order of operations to carry out calcu...</td>\n",
       "    </tr>\n",
       "    <tr>\n",
       "      <th>7</th>\n",
       "      <td>1870</td>\n",
       "      <td>Simplify an algebraic fraction by factorising ...</td>\n",
       "      <td>D</td>\n",
       "      <td>AnswerCText</td>\n",
       "      <td>\\( m-1 \\)</td>\n",
       "      <td>Simplify an algebraic fraction by factorising ...</td>\n",
       "    </tr>\n",
       "    <tr>\n",
       "      <th>8</th>\n",
       "      <td>1871</td>\n",
       "      <td>Calculate the range from a list of data Tom an...</td>\n",
       "      <td>B</td>\n",
       "      <td>AnswerCText</td>\n",
       "      <td>Both Tom and Katie</td>\n",
       "      <td>Calculate the range from a list of data Tom an...</td>\n",
       "    </tr>\n",
       "    <tr>\n",
       "      <th>9</th>\n",
       "      <td>1869</td>\n",
       "      <td>Use the order of operations to carry out calcu...</td>\n",
       "      <td>A</td>\n",
       "      <td>AnswerDText</td>\n",
       "      <td>Does not need brackets</td>\n",
       "      <td>Use the order of operations to carry out calcu...</td>\n",
       "    </tr>\n",
       "    <tr>\n",
       "      <th>10</th>\n",
       "      <td>1870</td>\n",
       "      <td>Simplify an algebraic fraction by factorising ...</td>\n",
       "      <td>D</td>\n",
       "      <td>AnswerDText</td>\n",
       "      <td>Does not simplify</td>\n",
       "      <td>Simplify an algebraic fraction by factorising ...</td>\n",
       "    </tr>\n",
       "    <tr>\n",
       "      <th>11</th>\n",
       "      <td>1871</td>\n",
       "      <td>Calculate the range from a list of data Tom an...</td>\n",
       "      <td>B</td>\n",
       "      <td>AnswerDText</td>\n",
       "      <td>Neither is correct</td>\n",
       "      <td>Calculate the range from a list of data Tom an...</td>\n",
       "    </tr>\n",
       "  </tbody>\n",
       "</table>\n",
       "</div>"
      ],
      "text/plain": [
       "    QuestionId                                  all_question_text  \\\n",
       "0         1869  Use the order of operations to carry out calcu...   \n",
       "1         1870  Simplify an algebraic fraction by factorising ...   \n",
       "2         1871  Calculate the range from a list of data Tom an...   \n",
       "3         1869  Use the order of operations to carry out calcu...   \n",
       "4         1870  Simplify an algebraic fraction by factorising ...   \n",
       "5         1871  Calculate the range from a list of data Tom an...   \n",
       "6         1869  Use the order of operations to carry out calcu...   \n",
       "7         1870  Simplify an algebraic fraction by factorising ...   \n",
       "8         1871  Calculate the range from a list of data Tom an...   \n",
       "9         1869  Use the order of operations to carry out calcu...   \n",
       "10        1870  Simplify an algebraic fraction by factorising ...   \n",
       "11        1871  Calculate the range from a list of data Tom an...   \n",
       "\n",
       "   CorrectAnswer       Answer                   value  \\\n",
       "0              A  AnswerAText   \\( 3 \\times(2+4)-5 \\)   \n",
       "1              D  AnswerAText               \\( m+1 \\)   \n",
       "2              B  AnswerAText               Only\\nTom   \n",
       "3              A  AnswerBText  \\( 3 \\times 2+(4-5) \\)   \n",
       "4              D  AnswerBText               \\( m+2 \\)   \n",
       "5              B  AnswerBText             Only\\nKatie   \n",
       "6              A  AnswerCText   \\( 3 \\times(2+4-5) \\)   \n",
       "7              D  AnswerCText               \\( m-1 \\)   \n",
       "8              B  AnswerCText      Both Tom and Katie   \n",
       "9              A  AnswerDText  Does not need brackets   \n",
       "10             D  AnswerDText       Does not simplify   \n",
       "11             B  AnswerDText      Neither is correct   \n",
       "\n",
       "                                             all_text  \n",
       "0   Use the order of operations to carry out calcu...  \n",
       "1   Simplify an algebraic fraction by factorising ...  \n",
       "2   Calculate the range from a list of data Tom an...  \n",
       "3   Use the order of operations to carry out calcu...  \n",
       "4   Simplify an algebraic fraction by factorising ...  \n",
       "5   Calculate the range from a list of data Tom an...  \n",
       "6   Use the order of operations to carry out calcu...  \n",
       "7   Simplify an algebraic fraction by factorising ...  \n",
       "8   Calculate the range from a list of data Tom an...  \n",
       "9   Use the order of operations to carry out calcu...  \n",
       "10  Simplify an algebraic fraction by factorising ...  \n",
       "11  Calculate the range from a list of data Tom an...  "
      ]
     },
     "execution_count": 14,
     "metadata": {},
     "output_type": "execute_result"
    }
   ],
   "source": [
    "def make_all_text(df: pd.DataFrame) -> pd.DataFrame:\n",
    "    df[\"all_text\"] = df[\"all_question_text\"] +\" \" +df[\"value\"]\n",
    "    return df\n",
    "\n",
    "test_long = make_all_text(test_long)\n",
    "test_long"
   ]
  },
  {
   "cell_type": "code",
   "execution_count": 15,
   "metadata": {},
   "outputs": [
    {
     "data": {
      "text/html": [
       "<div>\n",
       "<style scoped>\n",
       "    .dataframe tbody tr th:only-of-type {\n",
       "        vertical-align: middle;\n",
       "    }\n",
       "\n",
       "    .dataframe tbody tr th {\n",
       "        vertical-align: top;\n",
       "    }\n",
       "\n",
       "    .dataframe thead th {\n",
       "        text-align: right;\n",
       "    }\n",
       "</style>\n",
       "<table border=\"1\" class=\"dataframe\">\n",
       "  <thead>\n",
       "    <tr style=\"text-align: right;\">\n",
       "      <th></th>\n",
       "      <th>QuestionId</th>\n",
       "      <th>all_question_text</th>\n",
       "      <th>CorrectAnswer</th>\n",
       "      <th>Answer</th>\n",
       "      <th>value</th>\n",
       "      <th>all_text</th>\n",
       "    </tr>\n",
       "  </thead>\n",
       "  <tbody>\n",
       "    <tr>\n",
       "      <th>0</th>\n",
       "      <td>1869</td>\n",
       "      <td>Use the order of operations to carry out calcu...</td>\n",
       "      <td>A</td>\n",
       "      <td>AnswerAText</td>\n",
       "      <td>\\( 3 \\times(2+4)-5 \\)</td>\n",
       "      <td>Use the order of operations to carry out calcu...</td>\n",
       "    </tr>\n",
       "    <tr>\n",
       "      <th>1</th>\n",
       "      <td>1869</td>\n",
       "      <td>Use the order of operations to carry out calcu...</td>\n",
       "      <td>A</td>\n",
       "      <td>AnswerBText</td>\n",
       "      <td>\\( 3 \\times 2+(4-5) \\)</td>\n",
       "      <td>Use the order of operations to carry out calcu...</td>\n",
       "    </tr>\n",
       "    <tr>\n",
       "      <th>2</th>\n",
       "      <td>1869</td>\n",
       "      <td>Use the order of operations to carry out calcu...</td>\n",
       "      <td>A</td>\n",
       "      <td>AnswerCText</td>\n",
       "      <td>\\( 3 \\times(2+4-5) \\)</td>\n",
       "      <td>Use the order of operations to carry out calcu...</td>\n",
       "    </tr>\n",
       "    <tr>\n",
       "      <th>3</th>\n",
       "      <td>1869</td>\n",
       "      <td>Use the order of operations to carry out calcu...</td>\n",
       "      <td>A</td>\n",
       "      <td>AnswerDText</td>\n",
       "      <td>Does not need brackets</td>\n",
       "      <td>Use the order of operations to carry out calcu...</td>\n",
       "    </tr>\n",
       "    <tr>\n",
       "      <th>4</th>\n",
       "      <td>1870</td>\n",
       "      <td>Simplify an algebraic fraction by factorising ...</td>\n",
       "      <td>D</td>\n",
       "      <td>AnswerAText</td>\n",
       "      <td>\\( m+1 \\)</td>\n",
       "      <td>Simplify an algebraic fraction by factorising ...</td>\n",
       "    </tr>\n",
       "    <tr>\n",
       "      <th>5</th>\n",
       "      <td>1870</td>\n",
       "      <td>Simplify an algebraic fraction by factorising ...</td>\n",
       "      <td>D</td>\n",
       "      <td>AnswerBText</td>\n",
       "      <td>\\( m+2 \\)</td>\n",
       "      <td>Simplify an algebraic fraction by factorising ...</td>\n",
       "    </tr>\n",
       "    <tr>\n",
       "      <th>6</th>\n",
       "      <td>1870</td>\n",
       "      <td>Simplify an algebraic fraction by factorising ...</td>\n",
       "      <td>D</td>\n",
       "      <td>AnswerCText</td>\n",
       "      <td>\\( m-1 \\)</td>\n",
       "      <td>Simplify an algebraic fraction by factorising ...</td>\n",
       "    </tr>\n",
       "    <tr>\n",
       "      <th>7</th>\n",
       "      <td>1870</td>\n",
       "      <td>Simplify an algebraic fraction by factorising ...</td>\n",
       "      <td>D</td>\n",
       "      <td>AnswerDText</td>\n",
       "      <td>Does not simplify</td>\n",
       "      <td>Simplify an algebraic fraction by factorising ...</td>\n",
       "    </tr>\n",
       "    <tr>\n",
       "      <th>8</th>\n",
       "      <td>1871</td>\n",
       "      <td>Calculate the range from a list of data Tom an...</td>\n",
       "      <td>B</td>\n",
       "      <td>AnswerAText</td>\n",
       "      <td>Only\\nTom</td>\n",
       "      <td>Calculate the range from a list of data Tom an...</td>\n",
       "    </tr>\n",
       "    <tr>\n",
       "      <th>9</th>\n",
       "      <td>1871</td>\n",
       "      <td>Calculate the range from a list of data Tom an...</td>\n",
       "      <td>B</td>\n",
       "      <td>AnswerBText</td>\n",
       "      <td>Only\\nKatie</td>\n",
       "      <td>Calculate the range from a list of data Tom an...</td>\n",
       "    </tr>\n",
       "    <tr>\n",
       "      <th>10</th>\n",
       "      <td>1871</td>\n",
       "      <td>Calculate the range from a list of data Tom an...</td>\n",
       "      <td>B</td>\n",
       "      <td>AnswerCText</td>\n",
       "      <td>Both Tom and Katie</td>\n",
       "      <td>Calculate the range from a list of data Tom an...</td>\n",
       "    </tr>\n",
       "    <tr>\n",
       "      <th>11</th>\n",
       "      <td>1871</td>\n",
       "      <td>Calculate the range from a list of data Tom an...</td>\n",
       "      <td>B</td>\n",
       "      <td>AnswerDText</td>\n",
       "      <td>Neither is correct</td>\n",
       "      <td>Calculate the range from a list of data Tom an...</td>\n",
       "    </tr>\n",
       "  </tbody>\n",
       "</table>\n",
       "</div>"
      ],
      "text/plain": [
       "    QuestionId                                  all_question_text  \\\n",
       "0         1869  Use the order of operations to carry out calcu...   \n",
       "1         1869  Use the order of operations to carry out calcu...   \n",
       "2         1869  Use the order of operations to carry out calcu...   \n",
       "3         1869  Use the order of operations to carry out calcu...   \n",
       "4         1870  Simplify an algebraic fraction by factorising ...   \n",
       "5         1870  Simplify an algebraic fraction by factorising ...   \n",
       "6         1870  Simplify an algebraic fraction by factorising ...   \n",
       "7         1870  Simplify an algebraic fraction by factorising ...   \n",
       "8         1871  Calculate the range from a list of data Tom an...   \n",
       "9         1871  Calculate the range from a list of data Tom an...   \n",
       "10        1871  Calculate the range from a list of data Tom an...   \n",
       "11        1871  Calculate the range from a list of data Tom an...   \n",
       "\n",
       "   CorrectAnswer       Answer                   value  \\\n",
       "0              A  AnswerAText   \\( 3 \\times(2+4)-5 \\)   \n",
       "1              A  AnswerBText  \\( 3 \\times 2+(4-5) \\)   \n",
       "2              A  AnswerCText   \\( 3 \\times(2+4-5) \\)   \n",
       "3              A  AnswerDText  Does not need brackets   \n",
       "4              D  AnswerAText               \\( m+1 \\)   \n",
       "5              D  AnswerBText               \\( m+2 \\)   \n",
       "6              D  AnswerCText               \\( m-1 \\)   \n",
       "7              D  AnswerDText       Does not simplify   \n",
       "8              B  AnswerAText               Only\\nTom   \n",
       "9              B  AnswerBText             Only\\nKatie   \n",
       "10             B  AnswerCText      Both Tom and Katie   \n",
       "11             B  AnswerDText      Neither is correct   \n",
       "\n",
       "                                             all_text  \n",
       "0   Use the order of operations to carry out calcu...  \n",
       "1   Use the order of operations to carry out calcu...  \n",
       "2   Use the order of operations to carry out calcu...  \n",
       "3   Use the order of operations to carry out calcu...  \n",
       "4   Simplify an algebraic fraction by factorising ...  \n",
       "5   Simplify an algebraic fraction by factorising ...  \n",
       "6   Simplify an algebraic fraction by factorising ...  \n",
       "7   Simplify an algebraic fraction by factorising ...  \n",
       "8   Calculate the range from a list of data Tom an...  \n",
       "9   Calculate the range from a list of data Tom an...  \n",
       "10  Calculate the range from a list of data Tom an...  \n",
       "11  Calculate the range from a list of data Tom an...  "
      ]
     },
     "execution_count": 15,
     "metadata": {},
     "output_type": "execute_result"
    }
   ],
   "source": [
    "test_long = test_long.sort_values([\"QuestionId\", \"Answer\"]).reset_index(drop=True)\n",
    "test_long"
   ]
  },
  {
   "cell_type": "code",
   "execution_count": 18,
   "metadata": {},
   "outputs": [
    {
     "name": "stdout",
     "output_type": "stream",
     "text": [
      "['Does not know that angles in a triangle sum to 180 degrees'\n",
      " 'Uses dividing fractions method for multiplying fractions'\n",
      " 'Believes there are 100 degrees in a full turn'\n",
      " 'Thinks a quadratic without a non variable term, can not be factorised'\n",
      " 'Believes addition of terms and powers of terms are equivalent e.g. a + c = a^c'\n",
      " 'When measuring a reflex angle, gives the acute or obtuse angle that sums to 360 instead'\n",
      " 'Can identify the multiplier used to form an equivalent fraction but does not apply to the numerator'\n",
      " 'Believes gradient = change in y'\n",
      " 'Student thinks that any two angles along a straight line are equal'\n",
      " 'Thinks there are 180 degrees in a full turn']\n"
     ]
    }
   ],
   "source": [
    "labels = misconception_mapping['MisconceptionName'].values\n",
    "print(labels[0:10])"
   ]
  },
  {
   "cell_type": "markdown",
   "metadata": {},
   "source": [
    "## Loading the model and tokenizer for embedding generation"
   ]
  },
  {
   "cell_type": "code",
   "execution_count": 22,
   "metadata": {},
   "outputs": [
    {
     "name": "stderr",
     "output_type": "stream",
     "text": [
      "Downloading 14 files:   0%|          | 0/14 [00:00<?, ?it/s]"
     ]
    },
    {
     "name": "stdout",
     "output_type": "stream",
     "text": [
      "Downloading from https://www.kaggle.com/api/v1/models/happenmass/bge-small-en-v1.5/transformers/bge/2/download/README.md...\n"
     ]
    },
    {
     "name": "stderr",
     "output_type": "stream",
     "text": []
    },
    {
     "name": "stdout",
     "output_type": "stream",
     "text": [
      "Downloading from https://www.kaggle.com/api/v1/models/happenmass/bge-small-en-v1.5/transformers/bge/2/download/1_Pooling/config.json...\n"
     ]
    },
    {
     "name": "stderr",
     "output_type": "stream",
     "text": [
      "\n",
      "100%|██████████| 196/196 [00:00<00:00, 196kB/s]\n",
      "Downloading 14 files:   7%|▋         | 1/14 [00:01<00:14,  1.08s/it]"
     ]
    },
    {
     "name": "stdout",
     "output_type": "stream",
     "text": [
      "Downloading from https://www.kaggle.com/api/v1/models/happenmass/bge-small-en-v1.5/transformers/bge/2/download/config.json...\n"
     ]
    },
    {
     "name": "stderr",
     "output_type": "stream",
     "text": [
      "\n",
      "\u001b[A"
     ]
    },
    {
     "name": "stdout",
     "output_type": "stream",
     "text": [
      "Downloading from https://www.kaggle.com/api/v1/models/happenmass/bge-small-en-v1.5/transformers/bge/2/download/.gitattributes...\n"
     ]
    },
    {
     "name": "stderr",
     "output_type": "stream",
     "text": [
      "100%|██████████| 774/774 [00:00<00:00, 387kB/s]\n",
      "\n",
      "100%|██████████| 1.52k/1.52k [00:00<00:00, 1.55MB/s]\n",
      "100%|██████████| 95.6k/95.6k [00:00<00:00, 1.78MB/s]"
     ]
    },
    {
     "name": "stdout",
     "output_type": "stream",
     "text": [
      "Downloading from https://www.kaggle.com/api/v1/models/happenmass/bge-small-en-v1.5/transformers/bge/2/download/config_sentence_transformers.json...\n"
     ]
    },
    {
     "name": "stderr",
     "output_type": "stream",
     "text": [
      "\n"
     ]
    },
    {
     "name": "stdout",
     "output_type": "stream",
     "text": [
      "Downloading from https://www.kaggle.com/api/v1/models/happenmass/bge-small-en-v1.5/transformers/bge/2/download/modules.json...\n"
     ]
    },
    {
     "name": "stderr",
     "output_type": "stream",
     "text": [
      "\n",
      "100%|██████████| 130/130 [00:00<00:00, 65.0kB/s]\n",
      "100%|██████████| 368/368 [00:00<00:00, 184kB/s]"
     ]
    },
    {
     "name": "stdout",
     "output_type": "stream",
     "text": [
      "Downloading from https://www.kaggle.com/api/v1/models/happenmass/bge-small-en-v1.5/transformers/bge/2/download/onnx/model.onnx...\n"
     ]
    },
    {
     "name": "stderr",
     "output_type": "stream",
     "text": [
      "\n"
     ]
    },
    {
     "name": "stdout",
     "output_type": "stream",
     "text": [
      "Downloading from https://www.kaggle.com/api/v1/models/happenmass/bge-small-en-v1.5/transformers/bge/2/download/model.safetensors...\n"
     ]
    },
    {
     "name": "stderr",
     "output_type": "stream",
     "text": [
      "\n",
      "\u001b[A\n",
      "\u001b[A\n",
      "\u001b[A\n",
      "\u001b[A"
     ]
    },
    {
     "name": "stdout",
     "output_type": "stream",
     "text": [
      "Downloading from https://www.kaggle.com/api/v1/models/happenmass/bge-small-en-v1.5/transformers/bge/2/download/tokenizer_config.json...\n"
     ]
    },
    {
     "name": "stderr",
     "output_type": "stream",
     "text": [
      "\n",
      "\n",
      "100%|██████████| 381/381 [00:00<00:00, 381kB/s]\n"
     ]
    },
    {
     "name": "stdout",
     "output_type": "stream",
     "text": [
      "Downloading from https://www.kaggle.com/api/v1/models/happenmass/bge-small-en-v1.5/transformers/bge/2/download/tokenizer.json...\n"
     ]
    },
    {
     "name": "stderr",
     "output_type": "stream",
     "text": [
      "\n",
      "\n",
      "\u001b[A\u001b[A"
     ]
    },
    {
     "name": "stdout",
     "output_type": "stream",
     "text": [
      "Downloading from https://www.kaggle.com/api/v1/models/happenmass/bge-small-en-v1.5/transformers/bge/2/download/vocab.txt...\n"
     ]
    },
    {
     "name": "stderr",
     "output_type": "stream",
     "text": [
      "\n",
      "\n",
      "\n",
      "\u001b[A\u001b[A\u001b[A"
     ]
    },
    {
     "name": "stdout",
     "output_type": "stream",
     "text": [
      "Downloading from https://www.kaggle.com/api/v1/models/happenmass/bge-small-en-v1.5/transformers/bge/2/download/pytorch_model.bin...\n"
     ]
    },
    {
     "name": "stderr",
     "output_type": "stream",
     "text": [
      "\n",
      "\n",
      "\n",
      "\n",
      "\u001b[A\u001b[A\u001b[A\u001b[A\n",
      "\n",
      "\n",
      "\u001b[A\u001b[A\u001b[A\n",
      "\n",
      "100%|██████████| 256k/256k [00:00<00:00, 2.22MB/s]\n",
      "100%|██████████| 725k/725k [00:00<00:00, 4.50MB/s]\n",
      "\n",
      "\n",
      "\n",
      "\n",
      "\u001b[A\u001b[A\u001b[A\u001b[A\n",
      "\n",
      "\n",
      "\n",
      "\u001b[A\u001b[A\u001b[A\u001b[A"
     ]
    },
    {
     "name": "stdout",
     "output_type": "stream",
     "text": [
      "Downloading from https://www.kaggle.com/api/v1/models/happenmass/bge-small-en-v1.5/transformers/bge/2/download/sentence_bert_config.json...\n"
     ]
    },
    {
     "name": "stderr",
     "output_type": "stream",
     "text": [
      "\n",
      "\n",
      "100%|██████████| 55.0/55.0 [00:00<?, ?B/s]\n",
      "\n",
      "\n",
      "\n",
      "\n",
      "\u001b[A\u001b[A\u001b[A\u001b[A\n",
      "\n",
      "\n",
      "\n",
      "\u001b[A\u001b[A\u001b[A\u001b[A\n",
      "\n",
      "\n",
      "\n",
      "\u001b[A\u001b[A\u001b[A\u001b[A\n",
      "\n",
      "\n",
      "\n",
      "\u001b[A\u001b[A\u001b[A\u001b[A\n",
      "\n",
      "\n",
      "\n",
      "\u001b[A\u001b[A\u001b[A\u001b[A\n",
      "\n",
      "\n",
      "\n",
      "\u001b[A\u001b[A\u001b[A\u001b[A\n",
      "\n",
      "\n",
      "\n",
      "\u001b[A\u001b[A\u001b[A\u001b[A\n",
      "\n",
      "\n",
      "\n",
      "\u001b[A\u001b[A\u001b[A\u001b[A\n",
      "\n",
      "\n",
      "\n",
      "\u001b[A\u001b[A\u001b[A\u001b[A\n",
      "\n",
      "\n",
      "\n",
      "\u001b[A\u001b[A\u001b[A\u001b[A\n",
      "\n",
      "\n",
      "\n",
      "\u001b[A\u001b[A\u001b[A\u001b[A\n",
      "\n",
      "\n",
      "\n",
      "\u001b[A\u001b[A\u001b[A\u001b[A\n",
      "\n",
      "\n",
      "\n",
      "\u001b[A\u001b[A\u001b[A\u001b[A\n",
      "\n",
      "\n",
      "\n",
      "\u001b[A\u001b[A\u001b[A\u001b[A\n",
      "\n",
      "\n",
      "\n",
      "\u001b[A\u001b[A\u001b[A\u001b[A\n",
      "\n",
      "\n",
      "\n",
      "\u001b[A\u001b[A\u001b[A\u001b[A\n",
      "\n",
      "\n",
      "\n",
      "\u001b[A\u001b[A\u001b[A\u001b[A\n",
      "\n",
      "\n",
      "\n",
      "\u001b[A\u001b[A\u001b[A\u001b[A\n",
      "\n",
      "\n",
      "\n",
      "\u001b[A\u001b[A\u001b[A\u001b[A\n",
      "\n",
      "\n",
      "\n",
      "\u001b[A\u001b[A\u001b[A\u001b[A\n",
      "\n",
      "\n",
      "\n",
      "\u001b[A\u001b[A\u001b[A\u001b[A\n",
      "\n",
      "\n",
      "\n",
      "\u001b[A\u001b[A\u001b[A\u001b[A\n",
      "\n",
      "\n",
      "\n",
      "\u001b[A\u001b[A\u001b[A\u001b[A\n",
      "\n",
      "\n",
      "\n",
      "\u001b[A\u001b[A\u001b[A\u001b[A\n",
      "\n",
      "\n",
      "\n",
      "\u001b[A\u001b[A\u001b[A\u001b[A\n",
      "\n",
      "\n",
      "\n",
      "\u001b[A\u001b[A\u001b[A\u001b[A\n",
      "\n",
      "\n",
      "\n",
      "\u001b[A\u001b[A\u001b[A\u001b[A\n",
      "\n",
      "\n",
      "\n",
      "\u001b[A\u001b[A\u001b[A\u001b[A\n",
      "\n",
      "\n",
      "\n",
      "\u001b[A\u001b[A\u001b[A\u001b[A\n",
      "\n",
      "\n",
      "\n",
      "\u001b[A\u001b[A\u001b[A\u001b[A\n",
      "\n",
      "\n",
      "\n",
      "\u001b[A\u001b[A\u001b[A\u001b[A\n",
      "\n",
      "\n",
      "\n",
      "\u001b[A\u001b[A\u001b[A\u001b[A"
     ]
    },
    {
     "name": "stdout",
     "output_type": "stream",
     "text": [
      "Downloading from https://www.kaggle.com/api/v1/models/happenmass/bge-small-en-v1.5/transformers/bge/2/download/special_tokens_map.json...\n"
     ]
    },
    {
     "name": "stderr",
     "output_type": "stream",
     "text": [
      "\n",
      "\n",
      "100%|██████████| 132/132 [00:00<00:00, 132kB/s]\n",
      "\n",
      "\n",
      "\n",
      "\n",
      "\u001b[A\u001b[A\u001b[A\u001b[A\n",
      "\n",
      "\n",
      "\n",
      "\u001b[A\u001b[A\u001b[A\u001b[A\n",
      "\n",
      "\n",
      "\n",
      "\u001b[A\u001b[A\u001b[A\u001b[A\n",
      "\n",
      "\n",
      "\n",
      "\u001b[A\u001b[A\u001b[A\u001b[A\n",
      "\n",
      "\n",
      "\n",
      "100%|██████████| 127M/127M [00:04<00:00, 27.1MB/s]\n",
      "\n",
      "\u001b[A\n",
      "\u001b[A\n",
      "\u001b[A\n",
      "\u001b[A\n",
      "100%|██████████| 127M/127M [00:07<00:00, 17.2MB/s]\n",
      "Downloading 14 files:  14%|█▍        | 2/14 [00:08<01:00,  5.07s/it]\n",
      "\u001b[A\n",
      "\u001b[A\n",
      "\u001b[A\n",
      "\u001b[A\n",
      "\u001b[A\n",
      "\u001b[A\n",
      "\u001b[A\n",
      "\u001b[A\n",
      "\u001b[A\n",
      "\u001b[A\n",
      "\u001b[A\n",
      "\u001b[A\n",
      "\u001b[A\n",
      "\u001b[A\n",
      "\u001b[A\n",
      "\u001b[A\n",
      "\u001b[A\n",
      "\u001b[A\n",
      "\u001b[A\n",
      "\u001b[A\n",
      "\u001b[A\n",
      "\u001b[A\n",
      "\u001b[A\n",
      "100%|██████████| 127M/127M [00:10<00:00, 12.4MB/s]\n",
      "Downloading 14 files: 100%|██████████| 14/14 [00:12<00:00,  1.16it/s]"
     ]
    },
    {
     "name": "stdout",
     "output_type": "stream",
     "text": [
      "Path to model files: C:\\Users\\arche\\.cache\\kagglehub\\models\\happenmass\\bge-small-en-v1.5\\transformers\\bge\\2\n"
     ]
    },
    {
     "name": "stderr",
     "output_type": "stream",
     "text": [
      "\n"
     ]
    }
   ],
   "source": [
    "import kagglehub\n",
    "\n",
    "# Download latest version\n",
    "path = kagglehub.model_download(\"happenmass/bge-small-en-v1.5/transformers/bge\")\n",
    "\n",
    "print(\"Path to model files:\", path)"
   ]
  },
  {
   "cell_type": "code",
   "execution_count": 29,
   "metadata": {},
   "outputs": [
    {
     "name": "stdout",
     "output_type": "stream",
     "text": [
      "finish\n"
     ]
    }
   ],
   "source": [
    "device = \"cuda:0\"\n",
    "\n",
    "tokenizer = AutoTokenizer.from_pretrained('happenmass/bge-small-en-v1.5/transformers/bge/2')\n",
    "model = AutoModel.from_pretrained('happenmass/bge-small-en-v1.5/transformers/bge/2')\n",
    "\n",
    "model.eval()\n",
    "model.to(device)\n",
    "print(\"finish\")"
   ]
  },
  {
   "cell_type": "code",
   "execution_count": 30,
   "metadata": {},
   "outputs": [
    {
     "name": "stderr",
     "output_type": "stream",
     "text": [
      "100%|██████████| 324/324 [00:06<00:00, 51.38it/s]"
     ]
    },
    {
     "name": "stdout",
     "output_type": "stream",
     "text": [
      "Sentence embeddings: torch.Size([3, 384])\n"
     ]
    },
    {
     "name": "stderr",
     "output_type": "stream",
     "text": [
      "\n"
     ]
    }
   ],
   "source": [
    "from tqdm import tqdm\n",
    "MisconceptionName = list(misconception_mapping['MisconceptionName'].values)\n",
    "per_gpu_batch_size = 8\n",
    "\n",
    "\n",
    "def prepare_inputs(text, tokenizer, device):\n",
    "    tokenizer_outputs = tokenizer.batch_encode_plus(\n",
    "        text,\n",
    "        padding        = True,\n",
    "        return_tensors = 'pt',\n",
    "        max_length     = 1024,\n",
    "        truncation     = True\n",
    "    )\n",
    "    result = {\n",
    "        'input_ids': tokenizer_outputs.input_ids.to(device),\n",
    "        'attention_mask': tokenizer_outputs.attention_mask.to(device),\n",
    "    }\n",
    "    return result\n",
    "\n",
    "\n",
    "all_ctx_vector = []\n",
    "for mini_batch in tqdm(range(0, len(MisconceptionName[:]), per_gpu_batch_size)):\n",
    "    mini_context          = MisconceptionName[mini_batch:mini_batch+ per_gpu_batch_size]\n",
    "    encoded_input         = prepare_inputs(mini_context,tokenizer,device)\n",
    "    sentence_embeddings   = model(**encoded_input)[0][:, 0]\n",
    "    sentence_embeddings   = torch.nn.functional.normalize(sentence_embeddings, p=2, dim=1)\n",
    "    all_ctx_vector.append(sentence_embeddings.detach().cpu().numpy())\n",
    "\n",
    "all_ctx_vector = np.concatenate(all_ctx_vector, axis=0)\n",
    "print(\"Sentence embeddings:\", sentence_embeddings.shape)"
   ]
  },
  {
   "cell_type": "code",
   "execution_count": 31,
   "metadata": {},
   "outputs": [
    {
     "name": "stderr",
     "output_type": "stream",
     "text": [
      "100%|██████████| 2/2 [00:00<00:00, 16.11it/s]"
     ]
    },
    {
     "name": "stdout",
     "output_type": "stream",
     "text": [
      "(12, 384)\n"
     ]
    },
    {
     "name": "stderr",
     "output_type": "stream",
     "text": [
      "\n"
     ]
    }
   ],
   "source": [
    "test_texts = list(test_long.all_text.values)\n",
    "all_text_vector = []\n",
    "per_gpu_batch_size = 8\n",
    "\n",
    "for mini_batch in tqdm(\n",
    "        range(0, len(test_texts[:]), per_gpu_batch_size)):\n",
    "    mini_context = test_texts[mini_batch:mini_batch\n",
    "                                           + per_gpu_batch_size]\n",
    "    encoded_input = prepare_inputs(mini_context,tokenizer,device)\n",
    "    sentence_embeddings = model(\n",
    "        **encoded_input)[0][:, 0]\n",
    "    sentence_embeddings = torch.nn.functional.normalize(sentence_embeddings, p=2, dim=1)\n",
    "    \n",
    "    all_text_vector.append(sentence_embeddings.detach().cpu().numpy())\n",
    "\n",
    "all_text_vector = np.concatenate(all_text_vector, axis=0)\n",
    "print(all_text_vector.shape)"
   ]
  },
  {
   "cell_type": "markdown",
   "metadata": {},
   "source": [
    "## Predict"
   ]
  },
  {
   "cell_type": "code",
   "execution_count": 32,
   "metadata": {},
   "outputs": [],
   "source": [
    "test_cos_sim_arr = cosine_similarity(all_text_vector, all_ctx_vector)\n",
    "test_sorted_indices = np.argsort(-test_cos_sim_arr, axis=1)"
   ]
  },
  {
   "cell_type": "code",
   "execution_count": 33,
   "metadata": {},
   "outputs": [
    {
     "data": {
      "text/plain": [
       "array([[1672, 1941, 2488, 1316, 1119, 2131, 2010, 2586, 1901, 1872, 2202,\n",
       "        2518, 1999,  346, 2221,  256,  871, 1929,   14,   74,  466,  659,\n",
       "         340, 1163, 1085],\n",
       "       [1672, 1941, 1316, 1119, 2488, 2010, 2131, 2586, 1872, 1901, 2202,\n",
       "        2518,  346, 1999,   14, 1929,  871, 2221,  256,   74, 1163,  659,\n",
       "         340, 1085, 1971],\n",
       "       [1672, 1941, 1316, 1119, 2488, 2131, 2010, 2586, 1872, 1901, 2202,\n",
       "        2518,  346, 1999,  256, 2221,   14,  871, 1929, 1163,   74,  659,\n",
       "         340, 1085,  466],\n",
       "       [2488, 1941, 1672, 2131, 1316, 1119, 2586, 1872,  256,  871, 2010,\n",
       "          74, 2202, 2221, 1999, 2518, 1901,  466,  373, 2532, 1929,  969,\n",
       "        1163,  659,  315],\n",
       "       [1540, 2398, 1593,  885,  363, 2078, 2307,  979,  606,   59,  848,\n",
       "        1548,   80, 1825,  633, 1131, 1469,   29,  891, 1812, 1916,  317,\n",
       "        1358, 1218, 1280],\n",
       "       [1540, 2398, 1593,  885,  363, 2078, 2307,  979,  606,   59,  848,\n",
       "        1548,   80, 1825,  633, 1131, 1812, 1469,  891,   29, 1916,  317,\n",
       "        1358, 1218, 1280],\n",
       "       [1540, 2398,  885, 1593,  363, 2078, 2307,  979,  606,   59,  848,\n",
       "        1548,   80, 1825,  633, 1131, 1469,  891,   29, 1812, 1916, 1358,\n",
       "         317, 1218,  715],\n",
       "       [1540, 1593,  885,  363, 1825,   80, 2398,  606,   59,  891,  979,\n",
       "        1469, 2307,  633,  848, 1548, 2078, 2363,   29, 2021,    6, 1358,\n",
       "         265,  102,  715],\n",
       "       [1059, 2151,  632,  397, 2303, 1982, 1797, 2319, 1349, 1923, 1623,\n",
       "         631,  365, 2165, 2243, 2551, 2439, 1098, 1731,  691, 1287,  644,\n",
       "        2555, 1258,  251],\n",
       "       [1059, 2151,  632,  397, 2303, 1982, 2319, 1797, 1349, 1623, 1923,\n",
       "         631,  365, 1731, 2165, 2551, 1098, 2439, 2243,  691, 1287,  644,\n",
       "         251,  491, 2555],\n",
       "       [1059, 2151,  632,  397, 2303, 1982, 2319, 1797, 1349, 1923, 1623,\n",
       "         631,  365, 1731, 1098, 2439, 2165, 2551, 2243,  691, 1287,  644,\n",
       "        2555,  840,  251],\n",
       "       [1059,  632,  397, 2151, 2319, 2303, 1797, 1982, 1349, 1623,  631,\n",
       "        1923,  365, 1287, 2439, 1098,  691, 2551, 2165, 2243, 1731, 1073,\n",
       "         644, 2269, 2555]], dtype=int64)"
      ]
     },
     "execution_count": 33,
     "metadata": {},
     "output_type": "execute_result"
    }
   ],
   "source": [
    "test_sorted_indices[:, :25]"
   ]
  },
  {
   "cell_type": "markdown",
   "metadata": {},
   "source": [
    "## Make Submit File"
   ]
  },
  {
   "cell_type": "code",
   "execution_count": 34,
   "metadata": {},
   "outputs": [],
   "source": [
    "test_long[\"Answer_alphabet\"] = test_long[\"Answer\"].str.extract(r'Answer([A-Z])Text$')\n",
    "test_long[\"QuestionId_Answer\"] = test_long[\"QuestionId\"].astype(\"str\") + \"_\" + test_long[\"Answer_alphabet\"]\n",
    "test_long[\"MisconceptionId\"] = test_sorted_indices[:, :25].tolist()\n",
    "test_long[\"MisconceptionId\"] = test_long[\"MisconceptionId\"].apply(lambda x: ' '.join(map(str, x)))\n",
    "# filter correct row\n",
    "test_long = test_long[test_long[\"CorrectAnswer\"] != test_long[\"Answer_alphabet\"]]\n",
    "submission = test_long[[\"QuestionId_Answer\", \"MisconceptionId\"]].reset_index(drop=True)"
   ]
  },
  {
   "cell_type": "code",
   "execution_count": 35,
   "metadata": {},
   "outputs": [
    {
     "data": {
      "text/html": [
       "<div>\n",
       "<style scoped>\n",
       "    .dataframe tbody tr th:only-of-type {\n",
       "        vertical-align: middle;\n",
       "    }\n",
       "\n",
       "    .dataframe tbody tr th {\n",
       "        vertical-align: top;\n",
       "    }\n",
       "\n",
       "    .dataframe thead th {\n",
       "        text-align: right;\n",
       "    }\n",
       "</style>\n",
       "<table border=\"1\" class=\"dataframe\">\n",
       "  <thead>\n",
       "    <tr style=\"text-align: right;\">\n",
       "      <th></th>\n",
       "      <th>QuestionId_Answer</th>\n",
       "      <th>MisconceptionId</th>\n",
       "    </tr>\n",
       "  </thead>\n",
       "  <tbody>\n",
       "    <tr>\n",
       "      <th>0</th>\n",
       "      <td>1869_B</td>\n",
       "      <td>1672 1941 1316 1119 2488 2010 2131 2586 1872 1...</td>\n",
       "    </tr>\n",
       "    <tr>\n",
       "      <th>1</th>\n",
       "      <td>1869_C</td>\n",
       "      <td>1672 1941 1316 1119 2488 2131 2010 2586 1872 1...</td>\n",
       "    </tr>\n",
       "    <tr>\n",
       "      <th>2</th>\n",
       "      <td>1869_D</td>\n",
       "      <td>2488 1941 1672 2131 1316 1119 2586 1872 256 87...</td>\n",
       "    </tr>\n",
       "    <tr>\n",
       "      <th>3</th>\n",
       "      <td>1870_A</td>\n",
       "      <td>1540 2398 1593 885 363 2078 2307 979 606 59 84...</td>\n",
       "    </tr>\n",
       "    <tr>\n",
       "      <th>4</th>\n",
       "      <td>1870_B</td>\n",
       "      <td>1540 2398 1593 885 363 2078 2307 979 606 59 84...</td>\n",
       "    </tr>\n",
       "    <tr>\n",
       "      <th>5</th>\n",
       "      <td>1870_C</td>\n",
       "      <td>1540 2398 885 1593 363 2078 2307 979 606 59 84...</td>\n",
       "    </tr>\n",
       "    <tr>\n",
       "      <th>6</th>\n",
       "      <td>1871_A</td>\n",
       "      <td>1059 2151 632 397 2303 1982 1797 2319 1349 192...</td>\n",
       "    </tr>\n",
       "    <tr>\n",
       "      <th>7</th>\n",
       "      <td>1871_C</td>\n",
       "      <td>1059 2151 632 397 2303 1982 2319 1797 1349 192...</td>\n",
       "    </tr>\n",
       "    <tr>\n",
       "      <th>8</th>\n",
       "      <td>1871_D</td>\n",
       "      <td>1059 632 397 2151 2319 2303 1797 1982 1349 162...</td>\n",
       "    </tr>\n",
       "  </tbody>\n",
       "</table>\n",
       "</div>"
      ],
      "text/plain": [
       "  QuestionId_Answer                                    MisconceptionId\n",
       "0            1869_B  1672 1941 1316 1119 2488 2010 2131 2586 1872 1...\n",
       "1            1869_C  1672 1941 1316 1119 2488 2131 2010 2586 1872 1...\n",
       "2            1869_D  2488 1941 1672 2131 1316 1119 2586 1872 256 87...\n",
       "3            1870_A  1540 2398 1593 885 363 2078 2307 979 606 59 84...\n",
       "4            1870_B  1540 2398 1593 885 363 2078 2307 979 606 59 84...\n",
       "5            1870_C  1540 2398 885 1593 363 2078 2307 979 606 59 84...\n",
       "6            1871_A  1059 2151 632 397 2303 1982 1797 2319 1349 192...\n",
       "7            1871_C  1059 2151 632 397 2303 1982 2319 1797 1349 192...\n",
       "8            1871_D  1059 632 397 2151 2319 2303 1797 1982 1349 162..."
      ]
     },
     "execution_count": 35,
     "metadata": {},
     "output_type": "execute_result"
    }
   ],
   "source": [
    "submission.head(10)"
   ]
  }
 ],
 "metadata": {
  "kernelspec": {
   "display_name": "Python 3",
   "language": "python",
   "name": "python3"
  },
  "language_info": {
   "codemirror_mode": {
    "name": "ipython",
    "version": 3
   },
   "file_extension": ".py",
   "mimetype": "text/x-python",
   "name": "python",
   "nbconvert_exporter": "python",
   "pygments_lexer": "ipython3",
   "version": "3.11.8"
  }
 },
 "nbformat": 4,
 "nbformat_minor": 2
}
